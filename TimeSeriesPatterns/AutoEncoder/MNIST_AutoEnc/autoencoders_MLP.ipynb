{
 "cells": [
  {
   "cell_type": "code",
   "execution_count": 1,
   "metadata": {},
   "outputs": [
    {
     "name": "stderr",
     "output_type": "stream",
     "text": [
      "Using TensorFlow backend.\n"
     ]
    },
    {
     "name": "stdout",
     "output_type": "stream",
     "text": [
      "(128,)\n"
     ]
    }
   ],
   "source": [
    "from keras.layers import Input, Dense\n",
    "from keras.models import Model\n",
    "\n",
    "# this is the size of our encoded representations\n",
    "encoding_dim = 32  # 32 floats -> compression of factor 24.5, assuming the input is 784 floats\n",
    "\n",
    "# this is our input placeholder\n",
    "input_img = Input(shape=(784,))\n",
    "#print input_img\n",
    "# \"encoded\" is the encoded representation of the input\n",
    "encoded = Dense(128, activation='relu' )(input_img)\n",
    "print encoded.shape[1:]\n",
    "#encoded = Dense(128, activation='relu' )(encoded)\n",
    "encoded = Dense(64, activation='relu' )(encoded)\n",
    "encoded = Dense(32, activation='relu' )(encoded)\n",
    "# \"decoded\" is the lossy reconstruction of the input\n",
    "decoded1 = Dense(64, activation='relu')(encoded)\n",
    "decoded2 = Dense(128, activation='relu')(decoded1)\n",
    "decoded = Dense(784, activation='sigmoid')(decoded2)"
   ]
  },
  {
   "cell_type": "code",
   "execution_count": 2,
   "metadata": {
    "collapsed": true
   },
   "outputs": [],
   "source": [
    "# this model maps an input to its reconstruction\n",
    "autoencoder = Model(input_img, decoded)\n",
    "encoder=Model(input_img, encoded)\n",
    "L=len(autoencoder.layers)\n",
    "decoded_input1=Input(shape=(32,))\n",
    "decoder1=autoencoder.layers[L-3]\n",
    "decoder2=autoencoder.layers[L-2]\n",
    "decoder3=autoencoder.layers[L-1]\n",
    "decoder=Model(decoded_input1, decoder3(decoder2(decoder1(decoded_input1))))\n",
    "#decoder_layer1=autoencoder.layers[L-1]\n",
    "#decoder=Model(encoded_input1,decoder_layer1(encoded_input1))\n",
    "#decoder=Model(encoded_input1,decoder_layer1(encoded_input1))\n",
    "#encoded_input2=Input(shape=(64,))\n",
    "#decoder_layer2=autoencoder.layers[L-2]\n",
    "#decoder2=Model(decoder1,decoder_layer2(decoder1))"
   ]
  },
  {
   "cell_type": "code",
   "execution_count": 3,
   "metadata": {
    "collapsed": true
   },
   "outputs": [],
   "source": [
    "autoencoder.compile(optimizer='adadelta', loss='binary_crossentropy')"
   ]
  },
  {
   "cell_type": "code",
   "execution_count": 4,
   "metadata": {
    "collapsed": true
   },
   "outputs": [],
   "source": [
    "from keras.datasets import mnist \n",
    "(x_trainO,_),(x_testO,_)=mnist.load_data()\n",
    "import numpy as np"
   ]
  },
  {
   "cell_type": "code",
   "execution_count": 5,
   "metadata": {
    "collapsed": true
   },
   "outputs": [],
   "source": [
    "x_test=x_testO.reshape(len(x_testO),np.prod(x_testO.shape[1:]))\n",
    "x_train=x_trainO.reshape(len(x_trainO),np.prod(x_trainO.shape[1:]))\n",
    "#x_test[1]"
   ]
  },
  {
   "cell_type": "code",
   "execution_count": 6,
   "metadata": {},
   "outputs": [
    {
     "name": "stdout",
     "output_type": "stream",
     "text": [
      "(10000, 784)\n",
      "(60000, 784)\n"
     ]
    }
   ],
   "source": [
    "x_train=x_train.astype('float32')/255.\n",
    "x_test=x_test.astype('float32')/255.\n",
    "print x_test.shape\n",
    "print x_train.shape"
   ]
  },
  {
   "cell_type": "code",
   "execution_count": 7,
   "metadata": {},
   "outputs": [
    {
     "name": "stdout",
     "output_type": "stream",
     "text": [
      "Train on 60000 samples, validate on 10000 samples\n",
      "Epoch 1/10\n",
      "60000/60000 [==============================] - 3s - loss: 0.3474 - val_loss: 0.2639\n",
      "Epoch 2/10\n",
      "60000/60000 [==============================] - 3s - loss: 0.2593 - val_loss: 0.2537\n",
      "Epoch 3/10\n",
      "60000/60000 [==============================] - 3s - loss: 0.2441 - val_loss: 0.2326\n",
      "Epoch 4/10\n",
      "60000/60000 [==============================] - 3s - loss: 0.2276 - val_loss: 0.2222\n",
      "Epoch 5/10\n",
      "60000/60000 [==============================] - 3s - loss: 0.2188 - val_loss: 0.2120\n",
      "Epoch 6/10\n",
      "60000/60000 [==============================] - 3s - loss: 0.2079 - val_loss: 0.2006\n",
      "Epoch 7/10\n",
      "60000/60000 [==============================] - 3s - loss: 0.1975 - val_loss: 0.1913\n",
      "Epoch 8/10\n",
      "60000/60000 [==============================] - 3s - loss: 0.1878 - val_loss: 0.1841\n",
      "Epoch 9/10\n",
      "60000/60000 [==============================] - 3s - loss: 0.1810 - val_loss: 0.1779\n",
      "Epoch 10/10\n",
      "60000/60000 [==============================] - 3s - loss: 0.1758 - val_loss: 0.1717\n"
     ]
    },
    {
     "data": {
      "text/plain": [
       "<keras.callbacks.History at 0x111d17050>"
      ]
     },
     "execution_count": 7,
     "metadata": {},
     "output_type": "execute_result"
    }
   ],
   "source": [
    "autoencoder.fit(x_train, x_train,\n",
    "                epochs=10,\n",
    "                batch_size=256,\n",
    "                shuffle=True,\n",
    "                validation_data=(x_test, x_test))"
   ]
  },
  {
   "cell_type": "code",
   "execution_count": 8,
   "metadata": {
    "collapsed": true
   },
   "outputs": [],
   "source": [
    "#dec_imgs=autoencoder.predict(x_test)\n",
    "enc_imgs=encoder.predict(x_test)\n",
    "dec_imgs=decoder.predict(enc_imgs)\n",
    "#img=dec_imgs[2].reshape(28,28)\n",
    "#xtest=x_test[2].reshape(28,28)\n"
   ]
  },
  {
   "cell_type": "code",
   "execution_count": 9,
   "metadata": {},
   "outputs": [
    {
     "data": {
      "image/png": "[encoded data removed]",
      "text/plain": [
       "<matplotlib.figure.Figure at 0x11f88cb90>"
      ]
     },
     "metadata": {},
     "output_type": "display_data"
    }
   ],
   "source": [
    "import matplotlib.pyplot as plt\n",
    "plt.figure(figsize=(20, 4))\n",
    "n=10\n",
    "for i in range(n):\n",
    "    ax=plt.subplot(2, n, i+1)\n",
    "    xtest=x_test[i].reshape(28,28)\n",
    "    plt.imshow(xtest)\n",
    "    plt.gray()\n",
    "    ax.get_xaxis().set_visible(False)    \n",
    "    ax.get_yaxis().set_visible(False)        \n",
    "    ax1=plt.subplot(2, n, n+i+1)    \n",
    "    img=dec_imgs[i].reshape(28,28)\n",
    "    plt.imshow(img)    \n",
    "    plt.gray()\n",
    "    ax1.get_xaxis().set_visible(False)\n",
    "    ax1.get_yaxis().set_visible(False)    \n",
    "plt.show()"
   ]
  },
  {
   "cell_type": "code",
   "execution_count": null,
   "metadata": {
    "collapsed": true
   },
   "outputs": [],
   "source": []
  }
 ],
 "metadata": {
  "kernelspec": {
   "display_name": "Python 2",
   "language": "python",
   "name": "python2"
  },
  "language_info": {
   "codemirror_mode": {
    "name": "ipython",
    "version": 2
   },
   "file_extension": ".py",
   "mimetype": "text/x-python",
   "name": "python",
   "nbconvert_exporter": "python",
   "pygments_lexer": "ipython2",
   "version": "2.7.13"
  }
 },
 "nbformat": 4,
 "nbformat_minor": 2
}

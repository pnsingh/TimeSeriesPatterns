{
 "cells": [
  {
   "cell_type": "code",
   "execution_count": 1,
   "metadata": {},
   "outputs": [
    {
     "name": "stderr",
     "output_type": "stream",
     "text": [
      "Using TensorFlow backend.\n"
     ]
    },
    {
     "name": "stdout",
     "output_type": "stream",
     "text": [
      "(?, 28, 28, 1)\n",
      "(?, 28, 28, 16)\n",
      "(?, 4, 4, 8)\n",
      "(?, 14, 14, 16)\n",
      "(?, 28, 28, 1)\n"
     ]
    }
   ],
   "source": [
    "from keras.layers import Input, Dense, Conv2D, MaxPooling2D, UpSampling2D\n",
    "from keras.models import Model\n",
    "from keras import backend as K\n",
    "# this is the size of our encoded representations\n",
    "encoding_dim = 32  # 32 floats -> compression of factor 24.5, assuming the input is 784 floats\n",
    "\n",
    "# this is our input placeholder\n",
    "input_img = Input(shape=(28,28,1))\n",
    "print input_img.shape[:]\n",
    "x=Conv2D(16,(3,3),activation='relu',padding='same')(input_img)\n",
    "print x.shape[0:]\n",
    "x=MaxPooling2D((2,2),padding='same')(x)\n",
    "#print x.shape[0:]\n",
    "x=Conv2D(8,(3,3),activation='relu',padding='same')(x)\n",
    "#print x.shape[0:]\n",
    "x=MaxPooling2D((2,2),padding='same')(x)\n",
    "#print x.shape[0:]\n",
    "x = Conv2D(8, (3, 3), activation='relu', padding='same')(x)\n",
    "#print x.shape[0:]\n",
    "encoded = MaxPooling2D((2, 2), padding='same')(x)\n",
    "print encoded.shape[0:]\n",
    "### Decoding \n",
    "x = Conv2D(8, (3, 3), activation='relu', padding='same')(encoded)\n",
    "x = UpSampling2D((2, 2))(x)\n",
    "x = Conv2D(8, (3, 3), activation='relu', padding='same')(x)\n",
    "x = UpSampling2D((2, 2))(x)\n",
    "x = Conv2D(16, (3, 3), activation='relu')(x)\n",
    "print x.shape[0:]\n",
    "x = UpSampling2D((2, 2))(x)\n",
    "decoded = Conv2D(1, (3, 3), activation='sigmoid', padding='same')(x)\n",
    "print decoded.shape[0:]\n",
    "\n",
    "\n",
    "#autoencoder = Model(input_img, decoded)\n",
    "#autoencoder.compile(optimizer='adadelta', loss='binary_crossentropy')\n",
    "#x=Conv2D(1,(3,3),activation='relu',padding='same')(x)\n",
    "#x=UpSampling2D((2,2),padding='same')(x)\n",
    "#x = Conv2D(8, (3, 3), activation='relu', padding='same')(x)\n",
    "#decoded = UpSampling2D((2, 2), padding='same')(x)"
   ]
  },
  {
   "cell_type": "code",
   "execution_count": 28,
   "metadata": {
    "collapsed": true
   },
   "outputs": [],
   "source": [
    "# this model maps an input to its reconstruction\n",
    "autoencoder = Model(input_img, decoded)\n",
    "encoder=Model(input_img, encoded)\n",
    "L=len(autoencoder.layers)\n",
    "#decoded_input1=Input(shape=(32,))\n",
    "#decoder1=autoencoder.layers[L-3]\n",
    "#decoder2=autoencoder.layers[L-2]\n",
    "#decoder3=autoencoder.layers[L-1]\n",
    "#decoder=Model(decoded_input1, decoder3(decoder2(decoder1(decoded_input1))))\n",
    "#decoder_layer1=autoencoder.layers[L-1]\n",
    "#decoder=Model(encoded_input1,decoder_layer1(encoded_input1))\n",
    "#decoder=Model(encoded_input1,decoder_layer1(encoded_input1))\n",
    "#encoded_input2=Input(shape=(64,))\n",
    "#decoder_layer2=autoencoder.layers[L-2]\n",
    "#decoder2=Model(decoder1,decoder_layer2(decoder1))"
   ]
  },
  {
   "cell_type": "code",
   "execution_count": 29,
   "metadata": {
    "collapsed": true
   },
   "outputs": [],
   "source": [
    "autoencoder.compile(optimizer='adadelta', loss='binary_crossentropy')"
   ]
  },
  {
   "cell_type": "code",
   "execution_count": 30,
   "metadata": {
    "collapsed": true
   },
   "outputs": [],
   "source": [
    "from keras.datasets import mnist \n",
    "(x_trainO,_),(x_testO,_)=mnist.load_data()\n",
    "import numpy as np"
   ]
  },
  {
   "cell_type": "code",
   "execution_count": 31,
   "metadata": {
    "collapsed": true
   },
   "outputs": [],
   "source": [
    "x_test=x_testO.reshape(len(x_testO),28,28,1)\n",
    "x_train=x_trainO.reshape(len(x_trainO),28,28,1)\n",
    "#x_test[1]"
   ]
  },
  {
   "cell_type": "code",
   "execution_count": 32,
   "metadata": {},
   "outputs": [
    {
     "name": "stdout",
     "output_type": "stream",
     "text": [
      "(10000, 28, 28, 1)\n",
      "(60000, 28, 28, 1)\n"
     ]
    }
   ],
   "source": [
    "x_train=x_train.astype('float32')/255.\n",
    "x_test=x_test.astype('float32')/255.\n",
    "print x_test.shape\n",
    "print x_train.shape"
   ]
  },
  {
   "cell_type": "code",
   "execution_count": 34,
   "metadata": {},
   "outputs": [
    {
     "name": "stdout",
     "output_type": "stream",
     "text": [
      "Train on 60000 samples, validate on 10000 samples\n",
      "Epoch 1/10\n",
      "60000/60000 [==============================] - 65s - loss: 0.1406 - val_loss: 0.1318\n",
      "Epoch 2/10\n",
      "60000/60000 [==============================] - 63s - loss: 0.1312 - val_loss: 0.1279\n",
      "Epoch 3/10\n",
      "60000/60000 [==============================] - 74s - loss: 0.1257 - val_loss: 0.1246\n",
      "Epoch 4/10\n",
      "60000/60000 [==============================] - 75s - loss: 0.1219 - val_loss: 0.1221\n",
      "Epoch 5/10\n",
      "60000/60000 [==============================] - 76s - loss: 0.1193 - val_loss: 0.1156\n",
      "Epoch 6/10\n",
      "60000/60000 [==============================] - 70s - loss: 0.1170 - val_loss: 0.1157\n",
      "Epoch 7/10\n",
      "60000/60000 [==============================] - 68s - loss: 0.1157 - val_loss: 0.1133\n",
      "Epoch 8/10\n",
      "60000/60000 [==============================] - 73s - loss: 0.1146 - val_loss: 0.1131\n",
      "Epoch 9/10\n",
      "60000/60000 [==============================] - 70s - loss: 0.1139 - val_loss: 0.1102\n",
      "Epoch 10/10\n",
      "60000/60000 [==============================] - 66s - loss: 0.1128 - val_loss: 0.1120\n"
     ]
    },
    {
     "data": {
      "text/plain": [
       "<keras.callbacks.History at 0x11b995dd0>"
      ]
     },
     "execution_count": 34,
     "metadata": {},
     "output_type": "execute_result"
    }
   ],
   "source": [
    "from keras.callbacks import TensorBoard\n",
    "autoencoder.fit(x_train, x_train,\n",
    "                epochs=10,\n",
    "                batch_size=128,\n",
    "                shuffle=True,\n",
    "                validation_data=(x_test, x_test),\n",
    "                callbacks=[TensorBoard(log_dir='/tmp/autoencoder')])"
   ]
  },
  {
   "cell_type": "code",
   "execution_count": 35,
   "metadata": {
    "collapsed": true
   },
   "outputs": [],
   "source": [
    "dec_imgs=autoencoder.predict(x_test)\n",
    "enc_imgs=encoder.predict(x_test)\n",
    "#dec_imgs=decoder.predict(enc_imgs)\n",
    "#img=dec_imgs[2].reshape(28,28)\n",
    "#xtest=x_test[2].reshape(28,28)\n"
   ]
  },
  {
   "cell_type": "code",
   "execution_count": 64,
   "metadata": {},
   "outputs": [
    {
     "data": {
      "image/png": "[encoded data removed]",
      "text/plain": [
       "<matplotlib.figure.Figure at 0x116914310>"
      ]
     },
     "metadata": {},
     "output_type": "display_data"
    }
   ],
   "source": [
    "import matplotlib.pyplot as plt\n",
    "plt.figure(figsize=(20, 4))\n",
    "n=10\n",
    "for i in range(n):\n",
    "    ax=plt.subplot(2, n, i+1)\n",
    "    xtest=x_test[i].reshape(28,28)\n",
    "    plt.imshow(xtest)\n",
    "    plt.gray()\n",
    "    ax.get_xaxis().set_visible(False)    \n",
    "    ax.get_yaxis().set_visible(False)        \n",
    "    ax1=plt.subplot(2, n, n+i+1)    \n",
    "    img=dec_imgs[i].reshape(28,28)\n",
    "    plt.imshow(img)    \n",
    "    plt.gray()\n",
    "    ax1.get_xaxis().set_visible(False)\n",
    "    ax1.get_yaxis().set_visible(False)    \n",
    "plt.show()"
   ]
  },
  {
   "cell_type": "code",
   "execution_count": 39,
   "metadata": {},
   "outputs": [
    {
     "data": {
      "image/png": "[encoded data removed]",
      "text/plain": [
       "<matplotlib.figure.Figure at 0x11747f4d0>"
      ]
     },
     "metadata": {},
     "output_type": "display_data"
    }
   ],
   "source": [
    "import matplotlib.pyplot as plt\n",
    "plt.figure(figsize=(20, ))\n",
    "n=10\n",
    "for i in range(n):\n",
    "    ax=plt.subplot(2, n, i+1)\n",
    "    xtest=enc_imgs[i].reshape(4,32)\n",
    "    plt.imshow(xtest.T)\n",
    "    plt.gray()\n",
    "    ax.get_xaxis().set_visible(False)    \n",
    "    ax.get_yaxis().set_visible(False)        \n",
    "#    ax1=plt.subplot(2, n, n+i+1)    \n",
    "#    img=dec_imgs[i].reshape(28,28)\n",
    "#    plt.imshow(img)    \n",
    "#    plt.gray()\n",
    "#    ax1.get_xaxis().set_visible(False)\n",
    "#    ax1.get_yaxis().set_visible(False)    \n",
    "plt.show()"
   ]
  },
  {
   "cell_type": "code",
   "execution_count": null,
   "metadata": {
    "collapsed": true
   },
   "outputs": [],
   "source": []
  }
 ],
 "metadata": {
  "kernelspec": {
   "display_name": "Python 2",
   "language": "python",
   "name": "python2"
  },
  "language_info": {
   "codemirror_mode": {
    "name": "ipython",
    "version": 2
   },
   "file_extension": ".py",
   "mimetype": "text/x-python",
   "name": "python",
   "nbconvert_exporter": "python",
   "pygments_lexer": "ipython2",
   "version": "2.7.13"
  }
 },
 "nbformat": 4,
 "nbformat_minor": 2
}

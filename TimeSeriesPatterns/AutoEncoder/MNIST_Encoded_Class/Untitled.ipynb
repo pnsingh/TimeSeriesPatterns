{
 "cells": [
  {
   "cell_type": "code",
   "execution_count": 1,
   "metadata": {},
   "outputs": [
    {
     "name": "stderr",
     "output_type": "stream",
     "text": [
      "Using TensorFlow backend.\n"
     ]
    }
   ],
   "source": [
    "#%load_ext autoreload\n",
    "#%autoreload 2\n",
    "from keras.layers import Input, Dense\n",
    "from keras.models import Model\n",
    "from AutoEncoderMLP import AutoEncoderMLP\n",
    "from keras.datasets import mnist \n",
    "import numpy as np\n",
    "from keras.callbacks import ModelCheckpoint\n",
    "import copy\n",
    "import matplotlib.pyplot as plt\n",
    "#(x_train,_),(x_test,_)=mnist.load_data()\n",
    "\n",
    "# this is the size of our encoded representations\n",
    "#encoding_dim = 32  # 32 floats -> compression of factor 24.5, assuming the input is 784 floats\n",
    "\n",
    "# this is our input placeholder\n",
    "#input_img = Input(shape=(784,))\n",
    "#print input_img\n",
    "# \"encoded\" is the encoded representation of the input\n",
    "#encoded = Dense(128, activation='relu' )(input_img)\n",
    "#print encoded.shape[1:]\n",
    "#encoded = Dense(128, activation='relu' )(encoded)\n",
    "#encoded = Dense(64, activation='relu' )(encoded)\n",
    "#encoded = Dense(32, activation='relu' )(encoded)\n",
    "# \"decoded\" is the lossy reconstruction of the input\n",
    "#decoded1 = Dense(64, activation='relu')(encoded)\n",
    "#decoded2 = Dense(128, activation='relu')(decoded1)\n",
    "#decoded = Dense(784, activation='sigmoid')(decoded2)"
   ]
  },
  {
   "cell_type": "code",
   "execution_count": 5,
   "metadata": {
    "collapsed": true
   },
   "outputs": [],
   "source": [
    "(x_trainO,y_train),(x_testO,y_test)=mnist.load_data()\n",
    "x_test=x_testO.reshape(len(x_testO),np.prod(x_testO.shape[1:]))\n",
    "x_train=x_trainO.reshape(len(x_trainO),np.prod(x_trainO.shape[1:]))"
   ]
  },
  {
   "cell_type": "code",
   "execution_count": 6,
   "metadata": {
    "collapsed": true
   },
   "outputs": [],
   "source": [
    "# this model maps an input to its reconstruction\n",
    "origin_size=np.prod(x_trainO.shape[1:])\n",
    "(autoencoder, encoder, decoder)=AutoEncoderMLP(1, origin_size, [128,64,32])\n",
    "#decoder_layer1=autoencoder.layers[L-1]\n",
    "#decoder=Model(encoded_input1,decoder_layer1(encoded_input1))\n",
    "#decoder=Model(encoded_input1,decoder_layer1(encoded_input1))\n",
    "#encoded_input2=Input(shape=(64,))\n",
    "#decoder_layer2=autoencoder.layers[L-2]\n",
    "#decoder2=Model(decoder1,decoder_layer2(decoder1))"
   ]
  },
  {
   "cell_type": "code",
   "execution_count": 8,
   "metadata": {},
   "outputs": [
    {
     "data": {
      "text/plain": [
       "array([7, 2, 1, ..., 4, 5, 6], dtype=uint8)"
      ]
     },
     "execution_count": 8,
     "metadata": {},
     "output_type": "execute_result"
    }
   ],
   "source": [
    "y_test\n"
   ]
  },
  {
   "cell_type": "code",
   "execution_count": null,
   "metadata": {
    "collapsed": true
   },
   "outputs": [],
   "source": []
  }
 ],
 "metadata": {
  "kernelspec": {
   "display_name": "Python 2",
   "language": "python",
   "name": "python2"
  },
  "language_info": {
   "codemirror_mode": {
    "name": "ipython",
    "version": 2
   },
   "file_extension": ".py",
   "mimetype": "text/x-python",
   "name": "python",
   "nbconvert_exporter": "python",
   "pygments_lexer": "ipython2",
   "version": "2.7.13"
  }
 },
 "nbformat": 4,
 "nbformat_minor": 2
}

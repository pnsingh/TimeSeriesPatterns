{
 "cells": [
  {
   "cell_type": "code",
   "execution_count": 1,
   "metadata": {},
   "outputs": [
    {
     "name": "stderr",
     "output_type": "stream",
     "text": [
      "Using TensorFlow backend.\n"
     ]
    }
   ],
   "source": [
    "#%load_ext autoreload\n",
    "#%autoreload 2\n",
    "from keras.layers import Input, Dense\n",
    "from keras.models import Model\n",
    "from AutoEncoderMLP import AutoEncoderMLP\n",
    "from keras.datasets import mnist \n",
    "import numpy as np\n",
    "from keras.callbacks import ModelCheckpoint\n",
    "import copy\n",
    "import matplotlib.pyplot as plt\n",
    "#(x_train,_),(x_test,_)=mnist.load_data()\n",
    "\n",
    "# this is the size of our encoded representations\n",
    "#encoding_dim = 32  # 32 floats -> compression of factor 24.5, assuming the input is 784 floats\n",
    "\n",
    "# this is our input placeholder\n",
    "#input_img = Input(shape=(784,))\n",
    "#print input_img\n",
    "# \"encoded\" is the encoded representation of the input\n",
    "#encoded = Dense(128, activation='relu' )(input_img)\n",
    "#print encoded.shape[1:]\n",
    "#encoded = Dense(128, activation='relu' )(encoded)\n",
    "#encoded = Dense(64, activation='relu' )(encoded)\n",
    "#encoded = Dense(32, activation='relu' )(encoded)\n",
    "# \"decoded\" is the lossy reconstruction of the input\n",
    "#decoded1 = Dense(64, activation='relu')(encoded)\n",
    "#decoded2 = Dense(128, activation='relu')(decoded1)\n",
    "#decoded = Dense(784, activation='sigmoid')(decoded2)"
   ]
  },
  {
   "cell_type": "markdown",
   "metadata": {},
   "source": [
    "## Flattening the mnist images into array of 784* in order to fit to our MLP"
   ]
  },
  {
   "cell_type": "code",
   "execution_count": 2,
   "metadata": {
    "collapsed": true
   },
   "outputs": [],
   "source": [
    "(x_trainO,_),(x_testO,_)=mnist.load_data()\n",
    "x_test=x_testO.reshape(len(x_testO),np.prod(x_testO.shape[1:]))\n",
    "x_train=x_trainO.reshape(len(x_trainO),np.prod(x_trainO.shape[1:]))"
   ]
  },
  {
   "cell_type": "markdown",
   "metadata": {},
   "source": [
    "Designing the architecture of 3 layer encoding user autoencMLP code "
   ]
  },
  {
   "cell_type": "code",
   "execution_count": 3,
   "metadata": {
    "collapsed": true
   },
   "outputs": [],
   "source": [
    "# this model maps an input to its reconstruction\n",
    "origin_size=np.prod(x_trainO.shape[1:])\n",
    "(autoencoder, encoder, decoder)=AutoEncoderMLP(1, origin_size, [128,64,32])\n",
    "#decoder_layer1=autoencoder.layers[L-1]\n",
    "#decoder=Model(encoded_input1,decoder_layer1(encoded_input1))\n",
    "#decoder=Model(encoded_input1,decoder_layer1(encoded_input1))\n",
    "#encoded_input2=Input(shape=(64,))\n",
    "#decoder_layer2=autoencoder.layers[L-2]\n",
    "#decoder2=Model(decoder1,decoder_layer2(decoder1))"
   ]
  },
  {
   "cell_type": "code",
   "execution_count": 4,
   "metadata": {},
   "outputs": [
    {
     "name": "stdout",
     "output_type": "stream",
     "text": [
      "784\n",
      "_________________________________________________________________\n",
      "Layer (type)                 Output Shape              Param #   \n",
      "=================================================================\n",
      "input_1 (InputLayer)         (None, 784)               0         \n",
      "_________________________________________________________________\n",
      "dense_1 (Dense)              (None, 128)               100480    \n",
      "_________________________________________________________________\n",
      "dense_2 (Dense)              (None, 64)                8256      \n",
      "_________________________________________________________________\n",
      "dense_3 (Dense)              (None, 32)                2080      \n",
      "_________________________________________________________________\n",
      "dense_4 (Dense)              (None, 64)                2112      \n",
      "_________________________________________________________________\n",
      "dense_5 (Dense)              (None, 128)               8320      \n",
      "_________________________________________________________________\n",
      "dense_6 (Dense)              (None, 784)               101136    \n",
      "=================================================================\n",
      "Total params: 222,384.0\n",
      "Trainable params: 222,384.0\n",
      "Non-trainable params: 0.0\n",
      "_________________________________________________________________\n",
      "None\n",
      "_________________________________________________________________\n",
      "Layer (type)                 Output Shape              Param #   \n",
      "=================================================================\n",
      "input_1 (InputLayer)         (None, 784)               0         \n",
      "_________________________________________________________________\n",
      "dense_1 (Dense)              (None, 128)               100480    \n",
      "_________________________________________________________________\n",
      "dense_2 (Dense)              (None, 64)                8256      \n",
      "_________________________________________________________________\n",
      "dense_3 (Dense)              (None, 32)                2080      \n",
      "=================================================================\n",
      "Total params: 110,816.0\n",
      "Trainable params: 110,816.0\n",
      "Non-trainable params: 0.0\n",
      "_________________________________________________________________\n",
      "None\n"
     ]
    }
   ],
   "source": [
    "print origin_size\n",
    "print autoencoder.summary()\n",
    "print encoder.summary()\n",
    "#print decoder.summary()"
   ]
  },
  {
   "cell_type": "markdown",
   "metadata": {},
   "source": [
    "## Training section "
   ]
  },
  {
   "cell_type": "code",
   "execution_count": 5,
   "metadata": {
    "scrolled": false
   },
   "outputs": [
    {
     "name": "stdout",
     "output_type": "stream",
     "text": [
      "(10000, 784)\n",
      "(60000, 784)\n",
      "saved_models/Ezzat/weights.best.mnist.encDim32_3Layers.hdf5\n",
      "Train on 48000 samples, validate on 12000 samples\n",
      "Epoch 1/20\n",
      "47872/48000 [============================>.] - ETA: 0s - loss: 0.3637Epoch 00000: val_loss improved from inf to 0.26394, saving model to saved_models/Ezzat/weights.best.mnist.encDim32_3Layers.hdf5\n",
      "48000/48000 [==============================] - 3s - loss: 0.3634 - val_loss: 0.2639\n",
      "Epoch 2/20\n",
      "47360/48000 [============================>.] - ETA: 0s - loss: 0.2612Epoch 00001: val_loss improved from 0.26394 to 0.25580, saving model to saved_models/Ezzat/weights.best.mnist.encDim32_3Layers.hdf5\n",
      "48000/48000 [==============================] - 2s - loss: 0.2611 - val_loss: 0.2558\n",
      "Epoch 3/20\n",
      "47616/48000 [============================>.] - ETA: 0s - loss: 0.2504Epoch 00002: val_loss improved from 0.25580 to 0.24132, saving model to saved_models/Ezzat/weights.best.mnist.encDim32_3Layers.hdf5\n",
      "48000/48000 [==============================] - 3s - loss: 0.2503 - val_loss: 0.2413\n",
      "Epoch 4/20\n",
      "47872/48000 [============================>.] - ETA: 0s - loss: 0.2332Epoch 00003: val_loss improved from 0.24132 to 0.22334, saving model to saved_models/Ezzat/weights.best.mnist.encDim32_3Layers.hdf5\n",
      "48000/48000 [==============================] - 3s - loss: 0.2331 - val_loss: 0.2233\n",
      "Epoch 5/20\n",
      "47360/48000 [============================>.] - ETA: 0s - loss: 0.2145Epoch 00004: val_loss improved from 0.22334 to 0.20745, saving model to saved_models/Ezzat/weights.best.mnist.encDim32_3Layers.hdf5\n",
      "48000/48000 [==============================] - 2s - loss: 0.2144 - val_loss: 0.2075\n",
      "Epoch 6/20\n",
      "47616/48000 [============================>.] - ETA: 0s - loss: 0.2007Epoch 00005: val_loss improved from 0.20745 to 0.19413, saving model to saved_models/Ezzat/weights.best.mnist.encDim32_3Layers.hdf5\n",
      "48000/48000 [==============================] - 2s - loss: 0.2006 - val_loss: 0.1941\n",
      "Epoch 7/20\n",
      "47872/48000 [============================>.] - ETA: 0s - loss: 0.1908Epoch 00006: val_loss improved from 0.19413 to 0.18670, saving model to saved_models/Ezzat/weights.best.mnist.encDim32_3Layers.hdf5\n",
      "48000/48000 [==============================] - 3s - loss: 0.1908 - val_loss: 0.1867\n",
      "Epoch 8/20\n",
      "47104/48000 [============================>.] - ETA: 0s - loss: 0.1844Epoch 00007: val_loss improved from 0.18670 to 0.18261, saving model to saved_models/Ezzat/weights.best.mnist.encDim32_3Layers.hdf5\n",
      "48000/48000 [==============================] - 2s - loss: 0.1844 - val_loss: 0.1826\n",
      "Epoch 9/20\n",
      "47872/48000 [============================>.] - ETA: 0s - loss: 0.1799Epoch 00008: val_loss improved from 0.18261 to 0.17744, saving model to saved_models/Ezzat/weights.best.mnist.encDim32_3Layers.hdf5\n",
      "48000/48000 [==============================] - 3s - loss: 0.1799 - val_loss: 0.1774\n",
      "Epoch 10/20\n",
      "47616/48000 [============================>.] - ETA: 0s - loss: 0.1760Epoch 00009: val_loss improved from 0.17744 to 0.17461, saving model to saved_models/Ezzat/weights.best.mnist.encDim32_3Layers.hdf5\n",
      "48000/48000 [==============================] - 2s - loss: 0.1761 - val_loss: 0.1746\n",
      "Epoch 11/20\n",
      "47360/48000 [============================>.] - ETA: 0s - loss: 0.1725Epoch 00010: val_loss improved from 0.17461 to 0.16976, saving model to saved_models/Ezzat/weights.best.mnist.encDim32_3Layers.hdf5\n",
      "48000/48000 [==============================] - 3s - loss: 0.1724 - val_loss: 0.1698\n",
      "Epoch 12/20\n",
      "47616/48000 [============================>.] - ETA: 0s - loss: 0.1688Epoch 00011: val_loss improved from 0.16976 to 0.16551, saving model to saved_models/Ezzat/weights.best.mnist.encDim32_3Layers.hdf5\n",
      "48000/48000 [==============================] - 3s - loss: 0.1687 - val_loss: 0.1655\n",
      "Epoch 13/20\n",
      "47616/48000 [============================>.] - ETA: 0s - loss: 0.1647Epoch 00012: val_loss improved from 0.16551 to 0.16420, saving model to saved_models/Ezzat/weights.best.mnist.encDim32_3Layers.hdf5\n",
      "48000/48000 [==============================] - 3s - loss: 0.1647 - val_loss: 0.1642\n",
      "Epoch 14/20\n",
      "47360/48000 [============================>.] - ETA: 0s - loss: 0.1606Epoch 00013: val_loss improved from 0.16420 to 0.15890, saving model to saved_models/Ezzat/weights.best.mnist.encDim32_3Layers.hdf5\n",
      "48000/48000 [==============================] - 3s - loss: 0.1606 - val_loss: 0.1589\n",
      "Epoch 15/20\n",
      "47616/48000 [============================>.] - ETA: 0s - loss: 0.1569Epoch 00014: val_loss improved from 0.15890 to 0.15573, saving model to saved_models/Ezzat/weights.best.mnist.encDim32_3Layers.hdf5\n",
      "48000/48000 [==============================] - 2s - loss: 0.1569 - val_loss: 0.1557\n",
      "Epoch 16/20\n",
      "47104/48000 [============================>.] - ETA: 0s - loss: 0.1538Epoch 00015: val_loss improved from 0.15573 to 0.15353, saving model to saved_models/Ezzat/weights.best.mnist.encDim32_3Layers.hdf5\n",
      "48000/48000 [==============================] - 2s - loss: 0.1538 - val_loss: 0.1535\n",
      "Epoch 17/20\n",
      "47360/48000 [============================>.] - ETA: 0s - loss: 0.1512Epoch 00016: val_loss improved from 0.15353 to 0.15183, saving model to saved_models/Ezzat/weights.best.mnist.encDim32_3Layers.hdf5\n",
      "48000/48000 [==============================] - 2s - loss: 0.1512 - val_loss: 0.1518\n",
      "Epoch 18/20\n",
      "47104/48000 [============================>.] - ETA: 0s - loss: 0.1488Epoch 00017: val_loss improved from 0.15183 to 0.14681, saving model to saved_models/Ezzat/weights.best.mnist.encDim32_3Layers.hdf5\n",
      "48000/48000 [==============================] - 2s - loss: 0.1487 - val_loss: 0.1468\n",
      "Epoch 19/20\n",
      "47360/48000 [============================>.] - ETA: 0s - loss: 0.1461Epoch 00018: val_loss improved from 0.14681 to 0.14562, saving model to saved_models/Ezzat/weights.best.mnist.encDim32_3Layers.hdf5\n",
      "48000/48000 [==============================] - 2s - loss: 0.1461 - val_loss: 0.1456\n",
      "Epoch 20/20\n",
      "47360/48000 [============================>.] - ETA: 0s - loss: 0.1442Epoch 00019: val_loss improved from 0.14562 to 0.14299, saving model to saved_models/Ezzat/weights.best.mnist.encDim32_3Layers.hdf5\n",
      "48000/48000 [==============================] - 2s - loss: 0.1441 - val_loss: 0.1430\n"
     ]
    }
   ],
   "source": [
    "train_size=int(len(x_train)*0.8)\n",
    "valid_size=int(len(x_train)*0.2)\n",
    "\n",
    "## Normalizing the data between zero and 1 ## \n",
    "x_train=x_train.astype('float32')/255.\n",
    "x_test=x_test.astype('float32')/255.\n",
    "print x_test.shape\n",
    "print x_train.shape\n",
    "\n",
    "Path='saved_models/Ezzat/weights.best.mnist.'+'encDim'+'32_3Layers'+'.hdf5'\n",
    "print Path\n",
    "epochs=20 ## thrity is recommended no improvement after that ## \n",
    "checkpoint=ModelCheckpoint(filepath=Path, \n",
    "                               verbose=1, save_best_only=True)\n",
    "history=autoencoder.fit(x_train[:train_size], x_train[:train_size], validation_data=(x_train[train_size:], x_train[train_size:]),\n",
    "                epochs=epochs,\n",
    "                batch_size=256,\n",
    "                shuffle=True,  callbacks=[checkpoint], verbose=1,\n",
    "                )"
   ]
  },
  {
   "cell_type": "markdown",
   "metadata": {},
   "source": [
    "## Checking the learning curve ## "
   ]
  },
  {
   "cell_type": "code",
   "execution_count": 6,
   "metadata": {},
   "outputs": [
    {
     "data": {
      "image/png": "[encoded data removed]",
      "text/plain": [
       "<matplotlib.figure.Figure at 0x117bd1550>"
      ]
     },
     "metadata": {},
     "output_type": "display_data"
    }
   ],
   "source": [
    "plt.clf()\n",
    "a1,=plt.plot(history.history['val_loss'],label='val_loss')\n",
    "a2,=plt.plot(history.history['loss'],label='loss') \n",
    "plt.title(\"Encoded Dimention=\"+\"32\")\n",
    "plt.legend(handles=[a1,a2])\n",
    "#    plt.legend(str(2+2*i)) #HillllO\")    \n",
    "plt.show()    "
   ]
  },
  {
   "cell_type": "code",
   "execution_count": 7,
   "metadata": {},
   "outputs": [],
   "source": [
    "#dec_imgs=autoencoder.predict(x_train)\n",
    "#(autoencoder, encoder, decoder)=AutoEncoderMLP(1, 784, [128,64,32])\n",
    "Path='saved_models/Ezzat/weights.best.mnist.'+'encDim'+'32_3Layers'+'.hdf5'\n",
    "autoencoder.load_weights(Path)\n",
    "enc_imgs=encoder.predict(x_test)\n",
    "dec_imgs=decoder.predict(enc_imgs)\n",
    "#img=dec_imgs[2].reshape(28,28)\n",
    "#xtest=x_test[2].reshape(28,28)"
   ]
  },
  {
   "cell_type": "code",
   "execution_count": 8,
   "metadata": {},
   "outputs": [
    {
     "data": {
      "image/png": "[encoded data removed]",
      "text/plain": [
       "<matplotlib.figure.Figure at 0x117dbd8d0>"
      ]
     },
     "metadata": {},
     "output_type": "display_data"
    }
   ],
   "source": [
    "import matplotlib.pyplot as plt\n",
    "plt.figure(figsize=(20, 4))\n",
    "n=10\n",
    "for i in range(n):\n",
    "    ax=plt.subplot(2, n, i+1)\n",
    "    xtest=x_test[i].reshape(28,28)\n",
    "    plt.imshow(xtest)\n",
    "    plt.gray()\n",
    "    ax.get_xaxis().set_visible(False)    \n",
    "    ax.get_yaxis().set_visible(False)        \n",
    "    ax1=plt.subplot(2, n, n+i+1)    \n",
    "    img=dec_imgs[i].reshape(28,28)\n",
    "    plt.imshow(img)    \n",
    "    plt.gray()\n",
    "    ax1.get_xaxis().set_visible(False)\n",
    "    ax1.get_yaxis().set_visible(False)    \n",
    "plt.show()"
   ]
  },
  {
   "cell_type": "markdown",
   "metadata": {
    "collapsed": true
   },
   "source": [
    "### Going to encoded dimention and try to learn classes in encoded dimention ### "
   ]
  },
  {
   "cell_type": "code",
   "execution_count": 12,
   "metadata": {
    "collapsed": true
   },
   "outputs": [],
   "source": [
    "encImgs_train=encoder.predict(x_train)\n",
    "encImgs_test=encoder.predict(x_test)"
   ]
  },
  {
   "cell_type": "code",
   "execution_count": null,
   "metadata": {
    "collapsed": true
   },
   "outputs": [],
   "source": [
    "enc"
   ]
  },
  {
   "cell_type": "markdown",
   "metadata": {},
   "source": [
    "## Unsupervised classification of encoded dimentions ## \n",
    "PCA/ICA/RNN "
   ]
  },
  {
   "cell_type": "code",
   "execution_count": 26,
   "metadata": {
    "scrolled": false
   },
   "outputs": [
    {
     "data": {
      "text/plain": [
       "array([[  4.36826324e-11,   3.84916705e-04,  -5.49128009e-04,\n",
       "         -1.30393364e-04,   3.52995526e-04,  -3.13843765e-04,\n",
       "         -2.34470759e-11,  -4.06236407e-04,  -3.02738490e-04,\n",
       "         -4.17350330e-11,  -5.91228106e-04,  -3.02329750e-07,\n",
       "         -8.26827186e-05,   8.74841857e-04,  -4.28508565e-04,\n",
       "          4.55602982e-05,   8.10369330e-04,   7.56716226e-05,\n",
       "          3.11126508e-04,  -2.39746521e-04,  -5.51182805e-05,\n",
       "          7.86696327e-04,   4.04627163e-04,   8.76605021e-04,\n",
       "         -2.41317571e-04,   7.18611665e-04,   1.15608278e-05,\n",
       "         -3.33609747e-04,   5.40159145e-04,   5.93971510e-04,\n",
       "          2.07854807e-04,   9.26517659e-04],\n",
       "       [  8.45087497e-11,  -1.41822863e-04,   2.66487875e-04,\n",
       "          5.65566702e-04,   3.56016957e-04,   1.10351174e-03,\n",
       "          1.06908361e-11,   5.51131049e-04,  -3.60043628e-04,\n",
       "         -2.05643239e-11,  -8.02241057e-06,  -2.11577392e-07,\n",
       "         -1.57915446e-04,  -2.75317167e-04,  -3.32361522e-04,\n",
       "         -5.16720744e-05,  -4.57528530e-04,  -9.91775817e-05,\n",
       "          7.41850488e-04,  -1.80333232e-04,  -6.14692885e-05,\n",
       "          5.84485389e-04,   4.28033308e-04,  -2.07864063e-04,\n",
       "          1.57096714e-04,  -2.47031048e-04,  -9.63706173e-06,\n",
       "          2.41679385e-04,  -3.40900848e-04,  -5.83798599e-04,\n",
       "          1.08999707e-04,   4.88776685e-04],\n",
       "       [ -2.45261102e-10,   8.84171053e-05,  -4.10759787e-04,\n",
       "         -8.94700264e-05,   5.22799064e-04,  -3.55251004e-04,\n",
       "         -8.68772046e-12,   2.24064667e-04,  -1.17195201e-03,\n",
       "          5.23468837e-11,   1.70529310e-04,  -7.17232703e-08,\n",
       "         -7.58378081e-05,   7.74916842e-04,   1.08586301e-03,\n",
       "          1.70644174e-05,  -7.92014577e-05,  -2.92831590e-05,\n",
       "         -8.35798046e-04,   1.83089001e-04,   2.88597953e-04,\n",
       "         -1.81972415e-04,  -2.24078557e-04,  -2.36171295e-04,\n",
       "          6.93784679e-04,   5.89261450e-04,   2.26032004e-06,\n",
       "         -3.85293823e-04,   1.93635933e-04,   6.81119373e-04,\n",
       "          5.28675806e-04,  -1.38639320e-05],\n",
       "       [  5.24867327e-11,  -1.31147296e-04,   3.19646579e-04,\n",
       "          6.27062841e-05,  -2.96270293e-04,   5.81131184e-04,\n",
       "          7.33510646e-11,   4.19409325e-04,   5.63001956e-04,\n",
       "          8.07149130e-12,   2.17838795e-04,   6.59206007e-07,\n",
       "          1.05681750e-04,  -3.38127226e-04,  -4.89602611e-06,\n",
       "          8.22212758e-06,   1.26225552e-03,  -2.75335670e-04,\n",
       "          7.95312946e-04,  -3.07700298e-05,  -7.99822489e-05,\n",
       "         -2.31069917e-04,  -2.90535847e-04,  -5.85810374e-04,\n",
       "          4.05316924e-04,   5.06486556e-04,   1.71698714e-06,\n",
       "         -3.30478777e-04,   5.46519219e-04,  -2.20166936e-04,\n",
       "         -6.46819239e-04,  -9.68878455e-05],\n",
       "       [  5.51142835e-11,  -2.78575166e-04,  -5.42043833e-04,\n",
       "         -9.65019677e-04,   4.10754045e-04,   2.41938549e-04,\n",
       "          4.16266423e-11,   2.13656202e-04,  -4.65077320e-04,\n",
       "         -1.94883770e-10,  -6.05079038e-04,   7.44023463e-07,\n",
       "         -3.90174127e-05,  -2.41598392e-04,  -1.43398514e-03,\n",
       "         -8.70254784e-05,   5.69732504e-04,  -2.81833212e-04,\n",
       "          7.40197059e-04,  -6.97701645e-05,  -8.68708089e-04,\n",
       "          3.59320997e-04,   7.95523681e-05,  -4.97375930e-04,\n",
       "         -4.95070742e-04,   5.95744740e-05,  -2.01353245e-05,\n",
       "          4.39293881e-05,   6.75610645e-04,  -7.38442873e-04,\n",
       "         -1.06630706e-04,   8.52933623e-04],\n",
       "       [  2.77045402e-10,  -1.59963157e-03,  -4.15040321e-04,\n",
       "         -7.30148818e-04,  -4.72929331e-04,   6.07425759e-04,\n",
       "         -4.25337772e-11,  -3.49433112e-04,   6.71574071e-04,\n",
       "          3.30610686e-10,   1.33504358e-04,   2.18792606e-07,\n",
       "          2.73024275e-04,   8.59528261e-04,   8.68811767e-04,\n",
       "          7.65846089e-05,  -5.20584844e-04,   5.31174252e-04,\n",
       "          9.02407448e-04,   1.93344536e-04,   1.10557569e-03,\n",
       "         -3.68637884e-04,  -2.34388885e-04,   7.99354730e-05,\n",
       "         -6.82068757e-04,  -2.26457788e-04,   1.99385126e-05,\n",
       "         -7.73143594e-04,  -4.50324214e-04,   1.14071294e-03,\n",
       "         -5.17614939e-04,   9.36796591e-04],\n",
       "       [  2.39924329e-11,   3.01728119e-04,  -6.60138472e-04,\n",
       "          4.14683863e-04,  -1.87806013e-04,   1.60678567e-04,\n",
       "         -9.07692387e-12,   4.87698121e-04,   6.37850705e-04,\n",
       "         -1.50540622e-11,   2.55333165e-04,  -3.37316552e-07,\n",
       "         -3.75649976e-05,  -4.10164119e-04,  -1.63870484e-04,\n",
       "          2.17260269e-05,  -1.91555681e-04,  -1.17963636e-04,\n",
       "         -7.83616708e-05,   1.44970158e-03,  -4.68023920e-04,\n",
       "         -2.16142803e-04,   2.44974029e-04,   5.31822435e-04,\n",
       "          4.52888707e-05,   5.19467783e-04,   3.73748438e-06,\n",
       "         -2.95409333e-04,  -1.86065353e-04,  -7.85593856e-04,\n",
       "          4.51759106e-04,  -1.80252461e-04],\n",
       "       [  2.08871936e-10,  -1.12969414e-04,   3.46774863e-04,\n",
       "         -6.71567882e-04,   7.29642538e-04,  -7.27385729e-04,\n",
       "         -5.51603620e-11,   1.06450687e-04,   7.12894166e-04,\n",
       "         -3.24702975e-10,   2.42073568e-04,  -3.97391098e-07,\n",
       "          1.47394504e-05,   5.33883444e-06,  -2.59145933e-04,\n",
       "         -1.06146012e-04,  -5.18405133e-04,   6.39318782e-05,\n",
       "         -1.06785627e-04,   1.13961189e-04,  -3.98532240e-04,\n",
       "          6.38801468e-04,   1.39161646e-03,  -2.75170339e-04,\n",
       "          1.50719434e-04,  -8.17673078e-04,  -2.30884636e-05,\n",
       "          6.06833246e-04,   1.52161170e-03,   1.50974528e-04,\n",
       "          3.33349158e-04,  -1.21371465e-04],\n",
       "       [  3.24898700e-11,   7.84105371e-05,  -5.62406605e-04,\n",
       "         -1.36886183e-04,   3.67322678e-04,   4.28107188e-04,\n",
       "         -1.35034519e-11,  -1.76362189e-04,   6.28734499e-04,\n",
       "          7.73436583e-11,  -2.17247218e-04,  -3.33934762e-07,\n",
       "         -6.74982900e-05,   1.08022634e-04,  -6.30650926e-05,\n",
       "          1.47780610e-04,   4.75477468e-04,   6.14869475e-05,\n",
       "         -1.96623426e-06,  -3.77296371e-05,  -6.11088350e-05,\n",
       "         -9.90056030e-05,  -4.12792754e-04,   6.91465695e-04,\n",
       "          1.64711886e-04,   2.33950824e-04,   3.73128536e-05,\n",
       "          3.81664213e-04,  -3.53020300e-04,   6.84292968e-04,\n",
       "          1.98942835e-04,   4.33844580e-04],\n",
       "       [  2.92681438e-11,   3.76199651e-04,   1.16032049e-03,\n",
       "         -9.58640097e-04,  -6.93177056e-04,   6.76067753e-04,\n",
       "          9.79231632e-11,   7.11727234e-05,   2.68052481e-04,\n",
       "         -5.39507621e-11,   2.13188557e-04,   1.11845464e-06,\n",
       "         -1.56748136e-04,  -9.72807240e-05,  -4.82804310e-04,\n",
       "         -8.97814588e-05,   1.41852741e-05,  -4.38092482e-04,\n",
       "          4.37115000e-06,   1.21032352e-03,   9.76924225e-05,\n",
       "         -1.82393792e-03,   1.60462014e-04,  -2.57854226e-04,\n",
       "         -1.46208547e-04,   1.59158527e-03,  -1.26442031e-05,\n",
       "          5.89607926e-04,   1.26694080e-04,  -1.10114830e-04,\n",
       "          3.21764600e-04,   6.88146632e-04]])"
      ]
     },
     "execution_count": 26,
     "metadata": {},
     "output_type": "execute_result"
    }
   ],
   "source": [
    "from sklearn.decomposition import FastICA\n",
    "ica=FastICA(10)\n",
    "ica.fit(enc_imgs)#, tol=0.01)\n",
    "ica.components_"
   ]
  },
  {
   "cell_type": "code",
   "execution_count": null,
   "metadata": {
    "collapsed": true
   },
   "outputs": [],
   "source": []
  }
 ],
 "metadata": {
  "kernelspec": {
   "display_name": "Python 2",
   "language": "python",
   "name": "python2"
  },
  "language_info": {
   "codemirror_mode": {
    "name": "ipython",
    "version": 2
   },
   "file_extension": ".py",
   "mimetype": "text/x-python",
   "name": "python",
   "nbconvert_exporter": "python",
   "pygments_lexer": "ipython2",
   "version": "2.7.13"
  }
 },
 "nbformat": 4,
 "nbformat_minor": 2
}

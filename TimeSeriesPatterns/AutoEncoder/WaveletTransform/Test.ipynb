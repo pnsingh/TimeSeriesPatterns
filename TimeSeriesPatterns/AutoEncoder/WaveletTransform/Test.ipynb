{
 "cells": [
  {
   "cell_type": "code",
   "execution_count": 4,
   "metadata": {
    "collapsed": false
   },
   "outputs": [],
   "source": [
    "import quandl as qn\n",
    "import pandas as pd\n",
    "import numpy as np\n",
    "import copy\n",
    "import matplotlib.pyplot as plt\n",
    "from sklearn.preprocessing import MinMaxScaler\n",
    "from sklearn import preprocessing\n",
    "from keras.layers import Input, Dense, Conv2D, MaxPooling2D, UpSampling2D\n",
    "from keras.models import Model\n",
    "from keras import backend as K\n",
    "from keras.callbacks import TensorBoard\n",
    "#from sliding_window import sliding_window  ## Defined functions ## \n",
    "#from AutoEncoder import AutoEncoder\n",
    "#from AutoEncoderMLP import AutoEncoderMLP\n",
    "#from outliers import outliers \n",
    "import warnings\n",
    "warnings.filterwarnings(\"ignore\")\n",
    "\n",
    "qn.ApiConfig.api_key = \"HQV7bdPFvAn1QUxxkN5c\"\n",
    "from numpy.random import seed\n",
    "seed(1)\n",
    "from tensorflow import set_random_seed\n",
    "set_random_seed(2)"
   ]
  },
  {
   "cell_type": "code",
   "execution_count": 24,
   "metadata": {
    "collapsed": true
   },
   "outputs": [],
   "source": [
    "Data=[]\n",
    "Companies=[\"EOD/GOOGL\"]#,\"EOD/FB\",\"EOD/AAPL\",\"EOD/AMZN\"]#,\"EOD/MSFT\"]\n",
    "InitDate=\"2012-05-20\"\n",
    "EndDate=\"2017-12-01\"\n",
    "for company in Companies:\n",
    "    data=qn.get(company, start_date=InitDate, end_date=EndDate,collapse=\"daily\")\n",
    "    Data.append(data['Close'])"
   ]
  },
  {
   "cell_type": "code",
   "execution_count": 50,
   "metadata": {
    "collapsed": false
   },
   "outputs": [
    {
     "ename": "TypeError",
     "evalue": "coercing to Unicode: need string or buffer, file found",
     "output_type": "error",
     "traceback": [
      "\u001b[0;31m---------------------------------------------------------------------------\u001b[0m",
      "\u001b[0;31mTypeError\u001b[0m                                 Traceback (most recent call last)",
      "\u001b[0;32m<ipython-input-50-5d88ec63ccf2>\u001b[0m in \u001b[0;36m<module>\u001b[0;34m()\u001b[0m\n\u001b[1;32m     10\u001b[0m \u001b[0;34m\u001b[0m\u001b[0m\n\u001b[1;32m     11\u001b[0m \u001b[0mtext_file\u001b[0m \u001b[0;34m=\u001b[0m \u001b[0mopen\u001b[0m\u001b[0;34m(\u001b[0m\u001b[0;34m\"test.txt\"\u001b[0m\u001b[0;34m,\u001b[0m \u001b[0;34m\"r\"\u001b[0m\u001b[0;34m)\u001b[0m\u001b[0;34m\u001b[0m\u001b[0m\n\u001b[0;32m---> 12\u001b[0;31m \u001b[0;32mfor\u001b[0m \u001b[0mline\u001b[0m \u001b[0;32min\u001b[0m \u001b[0mopen\u001b[0m\u001b[0;34m(\u001b[0m\u001b[0mtext_file\u001b[0m\u001b[0;34m)\u001b[0m\u001b[0;34m:\u001b[0m\u001b[0;34m\u001b[0m\u001b[0m\n\u001b[0m\u001b[1;32m     13\u001b[0m     \u001b[0;32mif\u001b[0m \u001b[0mline\u001b[0m\u001b[0;34m.\u001b[0m\u001b[0mstrip\u001b[0m\u001b[0;34m(\u001b[0m\u001b[0;34m)\u001b[0m\u001b[0;34m:\u001b[0m\u001b[0;31m# line contains eol character(s)\u001b[0m\u001b[0;34m\u001b[0m\u001b[0m\n\u001b[1;32m     14\u001b[0m         \u001b[0;32mtry\u001b[0m\u001b[0;34m:\u001b[0m\u001b[0;34m\u001b[0m\u001b[0m\n",
      "\u001b[0;31mTypeError\u001b[0m: coercing to Unicode: need string or buffer, file found"
     ]
    }
   ],
   "source": [
    "import pywt\n",
    "import matplotlib.pyplot as plt\n",
    "import numpy as np\n",
    "\n",
    "lines=[]\n",
    "n=[]\n",
    "thefile = open('test.txt', 'w')\n",
    "for item in Data[0]:\n",
    "    print>>thefile, item\n",
    "    \n",
    "text_file = open(\"test.txt\", \"r\")\n",
    "for line in open(text_file):\n",
    "    if line.strip():# line contains eol character(s)\n",
    "        try:\n",
    "            n.append(int(line)) \n",
    "        except:\n",
    "            pass\n",
    "\n",
    "ts = n\n",
    "\n",
    "for line in lines:\n",
    "    if line:\n",
    "        ts.append=int(line)\n",
    "\n",
    "(ca, cd) = pywt.dwt(ts,'haar')\n",
    "\n",
    "cat = pywt.threshold(ca, np.std(ca)/2)\n",
    "cdt = pywt.threshold(cd, np.std(cd)/2)\n",
    "\n",
    "ts_rec = pywt.idwt(cat, cdt, 'haar')\n",
    "\n",
    "plt.close('all')\n",
    "\n",
    "plt.subplot(211)\n",
    "# Original coefficients\n",
    "plt.plot(ca, '--*b')\n",
    "plt.plot(cd, '--*r')\n",
    "# Thresholded coefficients\n",
    "plt.plot(cat, '--*c')\n",
    "plt.plot(cdt, '--*m')\n",
    "plt.legend(['ca','cd','ca_thresh', 'cd_thresh'], loc=0)\n",
    "plt.grid('on')\n",
    "\n",
    "plt.subplot(212)\n",
    "plt.plot(ts)\n",
    "plt.hold('on')\n",
    "plt.plot(ts_rec, 'r')\n",
    "plt.legend(['original signal', 'reconstructed signal'])\n",
    "plt.grid('on')\n",
    "#plt.show()"
   ]
  },
  {
   "cell_type": "code",
   "execution_count": null,
   "metadata": {
    "collapsed": true
   },
   "outputs": [],
   "source": []
  }
 ],
 "metadata": {
  "anaconda-cloud": {},
  "kernelspec": {
   "display_name": "Python [default]",
   "language": "python",
   "name": "python2"
  },
  "language_info": {
   "codemirror_mode": {
    "name": "ipython",
    "version": 2
   },
   "file_extension": ".py",
   "mimetype": "text/x-python",
   "name": "python",
   "nbconvert_exporter": "python",
   "pygments_lexer": "ipython2",
   "version": "2.7.12"
  }
 },
 "nbformat": 4,
 "nbformat_minor": 1
}
